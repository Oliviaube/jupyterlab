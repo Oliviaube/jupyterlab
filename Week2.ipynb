{
 "cells": [
  {
   "cell_type": "markdown",
   "id": "19ae4181-0efb-4dcc-bd4a-90afd93828f4",
   "metadata": {},
   "source": [
    "# Week 2: Simple Introductory Python Program in JupyterLab"
   ]
  },
  {
   "cell_type": "markdown",
   "id": "cce6e877-923d-48e9-8e2d-a5cb0a5a9c93",
   "metadata": {},
   "source": [
    "Let's start with some simple markdown text:\n",
    "* A bullet\n",
    "* Another bullet\n",
    "* A third bullet"
   ]
  },
  {
   "cell_type": "markdown",
   "id": "00f8b992-d801-4586-9e8c-3dae6fb21f2a",
   "metadata": {},
   "source": [
    "## A numbered list of things to do:\n",
    "1. Write a print statement to display a title.\n",
    "2. Write an input statement to request data.\n",
    "3. Write a print statement which uses the data"
   ]
  },
  {
   "cell_type": "code",
   "execution_count": 1,
   "id": "70c6b325-7d73-4095-ba0f-04c9c2ae823a",
   "metadata": {},
   "outputs": [
    {
     "name": "stdout",
     "output_type": "stream",
     "text": [
      "My First program\n"
     ]
    },
    {
     "name": "stdin",
     "output_type": "stream",
     "text": [
      "What is your name? Lief\n"
     ]
    },
    {
     "name": "stdout",
     "output_type": "stream",
     "text": [
      "Hi Lief, it is so nice to meet you!\n"
     ]
    }
   ],
   "source": [
    "print(\"My First program\")\n",
    "name = input(\"What is your name?\")\n",
    "print(f\"Hi {name}, it is so nice to meet you!\")"
   ]
  },
  {
   "cell_type": "markdown",
   "id": "27d2bb03-91f4-42f7-a8c8-80dd86d2bc2a",
   "metadata": {},
   "source": [
    "## Using f-strings in Python\n",
    "Recently (Python 3.6), Python introduced a concept called f-strings, to simplify formatted printing. As you can see from the example above, an f-string begins with an f, followed by a string, hence the name. Variables are contained in \"{}\", in the string itself. And you don't have to use the word, \"print\", you may just use f\"\" as in:"
   ]
  },
  {
   "cell_type": "code",
   "execution_count": 2,
   "id": "51c5c1e1-1a3a-49ba-b407-7673da6df04d",
   "metadata": {},
   "outputs": [
    {
     "data": {
      "text/plain": [
       "'This is an f-string, Lief'"
      ]
     },
     "execution_count": 2,
     "metadata": {},
     "output_type": "execute_result"
    }
   ],
   "source": [
    "f\"This is an f-string, {name}\""
   ]
  },
  {
   "cell_type": "markdown",
   "id": "ec0058b5-abbb-4897-ab29-340f5d262249",
   "metadata": {},
   "source": [
    "### Formatting using f-strings\n",
    "Formatting may also be performed Python's formatting specification found [here](https://docs.python.org/3/library/string.html#format-specification-mini-language). It can be a bit complicated, so I encourage you to review the examples."
   ]
  },
  {
   "cell_type": "markdown",
   "id": "f0b4d1f9-f026-4933-8861-03db02d9debc",
   "metadata": {},
   "source": [
    "## Assignment\n",
    "Using the information above, along with what you have learned from Part 1 of \"*Learn Python...*\", write some addition cells which use both *Markdown* text for formatting and *Python* for programming.\n",
    "\n",
    "### Examples:\n",
    "* A program which asks what the weather is like, and do you like it?\n",
    "* A program which asks for the major ingredients of a receipe you like.\n",
    "* Examples from page 22 of the book \"*Learn Python...*\""
   ]
  },
  {
   "cell_type": "markdown",
   "id": "61ab0c58-0298-49c6-bdcf-cdb7d3f68e6e",
   "metadata": {},
   "source": [
    "### Week Two Assignment"
   ]
  },
  {
   "cell_type": "markdown",
   "id": "26d8db79-5b2a-4e91-9f91-f46306771d0b",
   "metadata": {},
   "source": [
    "#### This application surrounds the weather"
   ]
  },
  {
   "cell_type": "code",
   "execution_count": 7,
   "id": "83846071-fc9e-4fe0-88f6-e5c2f760c05a",
   "metadata": {},
   "outputs": [
    {
     "name": "stdin",
     "output_type": "stream",
     "text": [
      "What is the weather like? cloudy\n",
      "Do you like it? It's alright, I prefer it when it's sunny.\n"
     ]
    }
   ],
   "source": [
    "q1 = input(\"What is the weather like?\")\n",
    "q2 = input(\"Do you like it?\")"
   ]
  },
  {
   "cell_type": "markdown",
   "id": "c9aa033e-c4fe-4cc3-b3e7-fec2cc21ad7d",
   "metadata": {},
   "source": [
    "#### This program asks for the major ingredients of cookies"
   ]
  },
  {
   "cell_type": "code",
   "execution_count": null,
   "id": "0d6a1689-1ded-4a35-a40a-6de398f2e12a",
   "metadata": {},
   "outputs": [],
   "source": [
    "major_ingredient1 = input(\"What is one of the major ingredients of making chocolate chip cookies?\")\n",
    "major_ingredient2 = input(\"What is another major ingredient?\")\n",
    "major_ingredient3 = input(\"What is another major ingredient?\")"
   ]
  },
  {
   "cell_type": "markdown",
   "id": "51b7b745-44a0-4a51-8648-8247f5391deb",
   "metadata": {},
   "source": [
    "#### This code segment is about your music taste"
   ]
  },
  {
   "cell_type": "code",
   "execution_count": 11,
   "id": "b102320b-5654-46b6-bcbb-bc97e92a41d4",
   "metadata": {},
   "outputs": [
    {
     "name": "stdin",
     "output_type": "stream",
     "text": [
      "What is your name? Olivia\n",
      "What is your favorite song? Stumblin In\n",
      "Who is your favorite singer? Kanye\n"
     ]
    },
    {
     "name": "stdout",
     "output_type": "stream",
     "text": [
      "Hi my name is Olivia.\n",
      "My favorite song is Stumblin In\n",
      "My favorite singer is Kanye\n"
     ]
    }
   ],
   "source": [
    "# What’s your favorite song? Ask a person their favorite song and favorite singer. Then print out three sentences like in cell 5 of the code in this chapter.\n",
    "name = input(\"What is your name?\")\n",
    "favorite_song = input(\"What is your favorite song?\")\n",
    "favorite_singer = input(\"Who is your favorite singer?\")\n",
    "\n",
    "print(f\"Hi my name is {name}\")\n",
    "print(f\"My favorite song is {favorite_song}\")\n",
    "print(f\"My favorite singer is {favorite_singer}\")"
   ]
  },
  {
   "cell_type": "markdown",
   "id": "9705d30d-3478-404d-97ed-745776e7ac3e",
   "metadata": {},
   "source": [
    "### Beginning Thursday June 15"
   ]
  },
  {
   "cell_type": "markdown",
   "id": "cc525386-1383-4180-a5df-7cd5728e2a01",
   "metadata": {},
   "source": [
    "#### This is a game that creates a MadLib based on your responses"
   ]
  },
  {
   "cell_type": "code",
   "execution_count": null,
   "id": "56904262-080a-4c40-bd6e-9522ca843c8b",
   "metadata": {},
   "outputs": [],
   "source": [
    "#Here I created 17 unique variables.  "
   ]
  },
  {
   "cell_type": "code",
   "execution_count": 14,
   "id": "099232a5-92db-41d4-8a2c-858522e55cd5",
   "metadata": {
    "scrolled": true
   },
   "outputs": [
    {
     "ename": "SyntaxError",
     "evalue": "unexpected EOF while parsing (3963399368.py, line 19)",
     "output_type": "error",
     "traceback": [
      "\u001b[1;36m  Cell \u001b[1;32mIn[14], line 19\u001b[1;36m\u001b[0m\n\u001b[1;33m    print(\"My cubicle is \" + q1 + \". It is the \" + q2 + \" cubicle in the office. I have a \" + q3 + \" on my desk next to a(n) \" + q4 + \" \" + q5 + \". In my drawer, I also have a(n) \" + q6 + \" \" + q7 + \". One time a coworker tried to \" + q8 + \" a \" + q9 + \" on my desk. I said to him, Hey! How would you like it if I \" + q10 + \" your \" + q11 + \"? I'll do it if you don't leave. \" + \"My one complaint about my cubicle is that it is \" + q12 + \". I think everyone here at the office complains about this. We also complain that our cubicle is \" + q13 + \". If we had money in our budget, my boss could purchase some \" + q14 + \" to help alleviate this problem. Our boss doesn't understand. His office is the size of \" + q15 + \". He has enough room in his office to put a \" + q16 + \" and a \" + q17 + \" in there.\"\u001b[0m\n\u001b[1;37m                                                                                                                                                                                                                                                                                                                                                                                                                                                                                                                                                                                                                                                                                                                                                                                                                                  ^\u001b[0m\n\u001b[1;31mSyntaxError\u001b[0m\u001b[1;31m:\u001b[0m unexpected EOF while parsing\n"
     ]
    }
   ],
   "source": [
    "q1 = input(\"Adjective: \")\n",
    "q2 = input(\"Superlative: \")\n",
    "q3 = input(\"Noun (Singular): \")\n",
    "q4 = input(\"Adjective: \")\n",
    "q5 = input(\"Noun (Singular): \")\n",
    "q6 = input(\"Adjective: \")\n",
    "q7 = input(\"Noun (Singular): \")\n",
    "q8 = input(\"Verb (Present Tense): \")\n",
    "q9 = input(\"Noun (Singular): \")\n",
    "q10 = input (\"Verb (Present Tense: \")\n",
    "q11 = input(\"Noun (Singular): \")\n",
    "q12 = input (\"Adjective: \")\n",
    "q13 = input(\"Adjective: \")\n",
    "q14 = input(\"Noun (Plural): \")\n",
    "q15 = input(\"A City: \")\n",
    "q16 = input(\"Noun (Singular): \")\n",
    "q17 = input(\"Noun (Singular): \")\n",
    "\n",
    "print(\"My cubicle is \" + q1 + \". It is the \" + q2 + \" cubicle in the office. I have a \" + q3 + \" on my desk next to a(n) \" + q4 + \" \" + q5 + \". In my drawer, I also have a(n) \" + q6 + \" \" + q7 + \". One time a coworker tried to \" + q8 + \" a \" + q9 + \" on my desk. I said to him, Hey! How would you like it if I \" + q10 + \" your \" + q11 + \"? I'll do it if you don't leave. \" + \"My one complaint about my cubicle is that it is \" + q12 + \". I think everyone here at the office complains about this. We also complain that our cubicle is \" + q13 + \". If we had money in our budget, my boss could purchase some \" + q14 + \" to help alleviate this problem. Our boss doesn't understand. His office is the size of \" + q15 + \". He has enough room in his office to put a \" + q16 + \" and a \" + q17 + \" in there.\""
   ]
  },
  {
   "cell_type": "markdown",
   "id": "a39f1143-f255-44e5-a619-5892684bd6c6",
   "metadata": {},
   "source": [
    "##### I am unsure as to why my code isn't working. It says I have the syntax error \"unexpected EOF while parsing\"; so I tried putting the print option in another cell however that didn't work either."
   ]
  },
  {
   "cell_type": "markdown",
   "id": "d4821d6b-9049-4c32-b621-2dffa7c487fb",
   "metadata": {},
   "source": [
    "#### Replicating the game of rock paper scissors"
   ]
  },
  {
   "cell_type": "code",
   "execution_count": 25,
   "id": "bebfb126-d036-4747-83b8-0ae8d87a8a3c",
   "metadata": {},
   "outputs": [
    {
     "name": "stdin",
     "output_type": "stream",
     "text": [
      "Would you like to play rock (r), paper (p), or scissors (s)? r\n"
     ]
    },
    {
     "name": "stdout",
     "output_type": "stream",
     "text": [
      "Player 2 wins!\n"
     ]
    }
   ],
   "source": [
    "from random import randint\n",
    "#1 is rock\n",
    "#2 is paper\n",
    "#3 is scissors\n",
    "\n",
    "player1 = input(\"Would you like to play rock (r), paper (p), or scissors (s)?\")\n",
    "options = randint(1, 3)\n",
    "if options == 1:\n",
    "    player2 = \"rock\"\n",
    "elif options == 2:\n",
    "    player2 = \"paper\"\n",
    "elif chosen == 3:\n",
    "    player2 = \"scissors\"\n",
    "\n",
    "#should have just made player2 the same as player1 with the options of \"r\", \"p\", and \"s\".\n",
    "\n",
    "if player1 == player2:\n",
    "    print(\"It was a tie!\")\n",
    "elif player1 == \"r\" and player2 == \"scissors\":\n",
    "    print(\"Player 1 wins!\")\n",
    "elif player1 == \"r\" and player2 == \"paper\":\n",
    "    print(\"Player 2 wins!\")\n",
    "elif player1 == \"p\" and player2 == \"rock\":\n",
    "    print(\"Player 1 wins!\")\n",
    "elif player1 == \"p\" and player2 == \"scissors\":\n",
    "    print(\"Player 2 wins!\")\n",
    "elif player1 == \"s\" and player2 == \"rock\":\n",
    "    print(\"Player 2 wins!\")\n",
    "elif player1 == \"s\" and player2 == \"paper\":\n",
    "    print(\"Player 1 wins!\")"
   ]
  },
  {
   "cell_type": "markdown",
   "id": "ac33fd04-c7e6-4094-a078-9696457f1c2e",
   "metadata": {},
   "source": [
    "##### To make this code more complex I would most likely add a While True loop and give players the option to play again if they want to, and if they didn't the code would break. "
   ]
  }
 ],
 "metadata": {
  "kernelspec": {
   "display_name": "Python 3 (ipykernel)",
   "language": "python",
   "name": "python3"
  },
  "language_info": {
   "codemirror_mode": {
    "name": "ipython",
    "version": 3
   },
   "file_extension": ".py",
   "mimetype": "text/x-python",
   "name": "python",
   "nbconvert_exporter": "python",
   "pygments_lexer": "ipython3",
   "version": "3.8.16"
  }
 },
 "nbformat": 4,
 "nbformat_minor": 5
}
