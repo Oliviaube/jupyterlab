{
 "cells": [
  {
   "cell_type": "markdown",
   "id": "19ae4181-0efb-4dcc-bd4a-90afd93828f4",
   "metadata": {},
   "source": [
    "# Week 2: Simple Introductory Python Program in JupyterLab"
   ]
  },
  {
   "cell_type": "markdown",
   "id": "cce6e877-923d-48e9-8e2d-a5cb0a5a9c93",
   "metadata": {},
   "source": [
    "Let's start with some simple markdown text:\n",
    "* A bullet\n",
    "* Another bullet\n",
    "* A third bullet"
   ]
  },
  {
   "cell_type": "markdown",
   "id": "00f8b992-d801-4586-9e8c-3dae6fb21f2a",
   "metadata": {},
   "source": [
    "## A numbered list of things to do:\n",
    "1. Write a print statement to display a title.\n",
    "2. Write an input statement to request data.\n",
    "3. Write a print statement which uses the data"
   ]
  },
  {
   "cell_type": "code",
   "execution_count": 1,
   "id": "70c6b325-7d73-4095-ba0f-04c9c2ae823a",
   "metadata": {},
   "outputs": [
    {
     "name": "stdout",
     "output_type": "stream",
     "text": [
      "My First program\n"
     ]
    },
    {
     "name": "stdin",
     "output_type": "stream",
     "text": [
      "What is your name? Lief\n"
     ]
    },
    {
     "name": "stdout",
     "output_type": "stream",
     "text": [
      "Hi Lief, it is so nice to meet you!\n"
     ]
    }
   ],
   "source": [
    "print(\"My First program\")\n",
    "name = input(\"What is your name?\")\n",
    "print(f\"Hi {name}, it is so nice to meet you!\")"
   ]
  },
  {
   "cell_type": "markdown",
   "id": "27d2bb03-91f4-42f7-a8c8-80dd86d2bc2a",
   "metadata": {},
   "source": [
    "## Using f-strings in Python\n",
    "Recently (Python 3.6), Python introduced a concept called f-strings, to simplify formatted printing. As you can see from the example above, an f-string begins with an f, followed by a string, hence the name. Variables are contained in \"{}\", in the string itself. And you don't have to use the word, \"print\", you may just use f\"\" as in:"
   ]
  },
  {
   "cell_type": "code",
   "execution_count": 2,
   "id": "51c5c1e1-1a3a-49ba-b407-7673da6df04d",
   "metadata": {},
   "outputs": [
    {
     "data": {
      "text/plain": [
       "'This is an f-string, Lief'"
      ]
     },
     "execution_count": 2,
     "metadata": {},
     "output_type": "execute_result"
    }
   ],
   "source": [
    "f\"This is an f-string, {name}\""
   ]
  },
  {
   "cell_type": "markdown",
   "id": "ec0058b5-abbb-4897-ab29-340f5d262249",
   "metadata": {},
   "source": [
    "### Formatting using f-strings\n",
    "Formatting may also be performed Python's formatting specification found [here](https://docs.python.org/3/library/string.html#format-specification-mini-language). It can be a bit complicated, so I encourage you to review the examples."
   ]
  },
  {
   "cell_type": "markdown",
   "id": "f0b4d1f9-f026-4933-8861-03db02d9debc",
   "metadata": {},
   "source": [
    "## Assignment\n",
    "Using the information above, along with what you have learned from Part 1 of \"*Learn Python...*\", write some addition cells which use both *Markdown* text for formatting and *Python* for programming.\n",
    "\n",
    "### Examples:\n",
    "* A program which asks what the weather is like, and do you like it?\n",
    "* A program which asks for the major ingredients of a receipe you like.\n",
    "* Examples from page 22 of the book \"*Learn Python...*\""
   ]
  },
  {
   "cell_type": "markdown",
   "id": "61ab0c58-0298-49c6-bdcf-cdb7d3f68e6e",
   "metadata": {},
   "source": [
    "## Week Two Assignment"
   ]
  },
  {
   "cell_type": "markdown",
   "id": "d54c1e1a-fe9e-4ba0-9fe0-b64d9181c5a4",
   "metadata": {},
   "source": [
    "#### Example One"
   ]
  },
  {
   "cell_type": "markdown",
   "id": "26d8db79-5b2a-4e91-9f91-f46306771d0b",
   "metadata": {},
   "source": [
    "**Weather**"
   ]
  },
  {
   "cell_type": "code",
   "execution_count": 7,
   "id": "83846071-fc9e-4fe0-88f6-e5c2f760c05a",
   "metadata": {},
   "outputs": [
    {
     "name": "stdin",
     "output_type": "stream",
     "text": [
      "What is the weather like? cloudy\n",
      "Do you like it? It's alright, I prefer it when it's sunny.\n"
     ]
    }
   ],
   "source": [
    "q1 = input(\"What is the weather like?\")\n",
    "q2 = input(\"Do you like it?\")"
   ]
  },
  {
   "cell_type": "markdown",
   "id": "403d8f66-fa47-418f-beb9-a9a59f351e0a",
   "metadata": {},
   "source": [
    "#### Example Two"
   ]
  },
  {
   "cell_type": "markdown",
   "id": "c9aa033e-c4fe-4cc3-b3e7-fec2cc21ad7d",
   "metadata": {},
   "source": [
    "**Making Cookies**"
   ]
  },
  {
   "cell_type": "code",
   "execution_count": null,
   "id": "0d6a1689-1ded-4a35-a40a-6de398f2e12a",
   "metadata": {},
   "outputs": [],
   "source": [
    "major_ingredient1 = input(\"What is one of the major ingredients of making chocolate chip cookies?\")\n",
    "major_ingredient2 = input(\"What is another major ingredient?\")\n",
    "major_ingredient3 = input(\"What is another major ingredient?\")"
   ]
  },
  {
   "cell_type": "markdown",
   "id": "0188e1dd-148b-46ef-b452-a98a0870cd05",
   "metadata": {},
   "source": [
    "#### Example Three"
   ]
  },
  {
   "cell_type": "markdown",
   "id": "51b7b745-44a0-4a51-8648-8247f5391deb",
   "metadata": {},
   "source": [
    "**Favorite Song**"
   ]
  },
  {
   "cell_type": "code",
   "execution_count": 11,
   "id": "b102320b-5654-46b6-bcbb-bc97e92a41d4",
   "metadata": {},
   "outputs": [
    {
     "name": "stdin",
     "output_type": "stream",
     "text": [
      "What is your name? Olivia\n",
      "What is your favorite song? Stumblin In\n",
      "Who is your favorite singer? Kanye\n"
     ]
    },
    {
     "name": "stdout",
     "output_type": "stream",
     "text": [
      "Hi my name is Olivia.\n",
      "My favorite song is Stumblin In\n",
      "My favorite singer is Kanye\n"
     ]
    }
   ],
   "source": [
    "# What’s your favorite song? Ask a person their favorite song and favorite singer. Then print out three sentences like in cell 5 of the code in this chapter.\n",
    "name = input(\"What is your name?\")\n",
    "favorite_song = input(\"What is your favorite song?\")\n",
    "favorite_singer = input(\"Who is your favorite singer?\")\n",
    "\n",
    "print(f\"Hi my name is {name}\")\n",
    "print(f\"My favorite song is {favorite_song}\")\n",
    "print(f\"My favorite singer is {favorite_singer}\")"
   ]
  },
  {
   "cell_type": "markdown",
   "id": "9705d30d-3478-404d-97ed-745776e7ac3e",
   "metadata": {},
   "source": [
    "### Beginning Thursday June 15"
   ]
  }
 ],
 "metadata": {
  "kernelspec": {
   "display_name": "Python 3 (ipykernel)",
   "language": "python",
   "name": "python3"
  },
  "language_info": {
   "codemirror_mode": {
    "name": "ipython",
    "version": 3
   },
   "file_extension": ".py",
   "mimetype": "text/x-python",
   "name": "python",
   "nbconvert_exporter": "python",
   "pygments_lexer": "ipython3",
   "version": "3.8.16"
  }
 },
 "nbformat": 4,
 "nbformat_minor": 5
}
